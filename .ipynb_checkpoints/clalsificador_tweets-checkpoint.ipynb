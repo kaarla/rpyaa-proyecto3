{
 "cells": [
  {
   "cell_type": "code",
   "execution_count": 4,
   "metadata": {},
   "outputs": [],
   "source": [
    "import pandas as pd\n",
    "from sklearn.model_selection import train_test_split\n",
    "from sklearn.preprocessing import StandardScaler\n",
    "from sklearn.neural_network import MLPClassifier\n",
    "from sklearn.metrics import classification_report,confusion_matrix\n",
    "import csv"
   ]
  },
  {
   "cell_type": "code",
   "execution_count": 12,
   "metadata": {},
   "outputs": [
    {
     "name": "stdout",
     "output_type": "stream",
     "text": [
      "Se limpió el dataset\n"
     ]
    }
   ],
   "source": [
    "#es necesario limpiar el archivo de tweets para que no se sesgue el cluster con las\n",
    "#etiquetas de ironía y sarcasmo\n",
    "infile = \"ironicos_reduced.txt\"\n",
    "outfile = \"ironicos_limpios.txt\"\n",
    "\n",
    "delete_list = [\"#ironía\", \"#ironia\", \"#sarcasmo\", \"#Sarcasmo\", \"#Ironía\", \"#Ironia\", \"sarcasmo\", \"ironí\"]\n",
    "fin = open(infile)\n",
    "fout = open(outfile, \"w+\")\n",
    "for line in fin:\n",
    "    for word in delete_list:        \n",
    "        line = line.lower().replace(word, \"\")\n",
    "        line = line.replace(\",\", \"\")\n",
    "        line = line.replace(\"\\n\", \", 1\\n\")\n",
    "        line = line.replace(\"1 1 1 1 1 1 1\", \"\")\n",
    "    fout.write(line)\n",
    "fin.close()\n",
    "fout.close()\n",
    "print \"Se limpió el dataset\""
   ]
  },
  {
   "cell_type": "code",
   "execution_count": null,
   "metadata": {},
   "outputs": [],
   "source": []
  },
  {
   "cell_type": "code",
   "execution_count": null,
   "metadata": {},
   "outputs": [],
   "source": []
  }
 ],
 "metadata": {
  "kernelspec": {
   "display_name": "Python 2",
   "language": "python",
   "name": "python2"
  },
  "language_info": {
   "codemirror_mode": {
    "name": "ipython",
    "version": 2
   },
   "file_extension": ".py",
   "mimetype": "text/x-python",
   "name": "python",
   "nbconvert_exporter": "python",
   "pygments_lexer": "ipython2",
   "version": "2.7.6"
  }
 },
 "nbformat": 4,
 "nbformat_minor": 2
}
